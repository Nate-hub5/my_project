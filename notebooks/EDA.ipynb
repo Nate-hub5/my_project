{
 "cells": [
  {
   "cell_type": "code",
   "execution_count": null,
   "metadata": {},
   "outputs": [],
   "source": [
    "#Imports\n",
    "import pandas as pd\n",
    "import plotly.express as px\n",
    "\n",
    "#Reading the file\n",
    "df = pd.read_csv('/Users/nathanmerlino/my_project/vehicles_us.csv')\n",
    "\n",
    "#Setting date posted to datetime\n",
    "df['date_posted'] = pd.to_datetime(df['date_posted'])\n",
    "print(df.info())\n",
    "df.head()"
   ]
  },
  {
   "cell_type": "code",
   "execution_count": null,
   "metadata": {},
   "outputs": [],
   "source": [
    "#Wanted to find the mean and median of a view columns to fill in missing values. \n",
    "df.describe()"
   ]
  },
  {
   "cell_type": "code",
   "execution_count": null,
   "metadata": {},
   "outputs": [],
   "source": [
    "#Checking the numbe of missing values in the dataframe\n",
    "df.isnull().sum()"
   ]
  },
  {
   "cell_type": "code",
   "execution_count": null,
   "metadata": {},
   "outputs": [],
   "source": [
    "#Getting the median of each of the following columns.\n",
    "median_model_year = df['model_year'].median()\n",
    "median_cylinders = df['cylinders'].median()\n",
    "median_odometer = df['odometer'].median()\n",
    "\n",
    "# Fill missing values using .fillna() without inplace=True\n",
    "df['model_year'] = df['model_year'].fillna(median_model_year)\n",
    "df['cylinders'] = df['cylinders'].fillna(median_cylinders)\n",
    "df['odometer'] = df['odometer'].fillna(median_odometer)\n",
    "\n",
    "df.isnull().sum()"
   ]
  },
  {
   "cell_type": "code",
   "execution_count": null,
   "metadata": {},
   "outputs": [],
   "source": [
    "#Setting the is_4wd to a boolean value where true = 4wd, false = no 4wd\n",
    "df['is_4wd'] = df['is_4wd'].fillna(False).astype(bool)\n",
    "\n",
    "df.isnull().sum()"
   ]
  },
  {
   "cell_type": "code",
   "execution_count": null,
   "metadata": {},
   "outputs": [],
   "source": [
    "#Filling in the missing values with no color    \n",
    "df['paint_color'] = df['paint_color'].fillna('no color')\n",
    "\n",
    "df.head(15)"
   ]
  },
  {
   "cell_type": "code",
   "execution_count": null,
   "metadata": {},
   "outputs": [],
   "source": [
    "#Wanted to check that there wasn't in duplicated types, transmissions, model, and condition\n",
    "print(df['type'].unique())\n",
    "print()\n",
    "print(df['transmission'].unique())\n",
    "print()\n",
    "print(df['model'].unique())\n",
    "print()\n",
    "print(df['condition'].unique())"
   ]
  },
  {
   "cell_type": "code",
   "execution_count": null,
   "metadata": {},
   "outputs": [],
   "source": [
    "df.info()"
   ]
  },
  {
   "cell_type": "code",
   "execution_count": null,
   "metadata": {},
   "outputs": [],
   "source": [
    "def extract_manufacturer(model):\n",
    "    return model.split()[0]\n",
    "\n",
    "df['manufacturer'] = df['model'].apply(extract_manufacturer)\n",
    "\n",
    "df = df[['price', 'model_year', 'manufacturer', 'model', 'condition', 'cylinders', 'fuel', \n",
    "         'odometer', 'transmission', 'type', 'paint_color', 'is_4wd', 'date_posted', \n",
    "         'days_listed']]\n",
    "\n",
    "\n",
    "df.head()"
   ]
  },
  {
   "cell_type": "code",
   "execution_count": null,
   "metadata": {},
   "outputs": [],
   "source": [
    "fig = px.histogram(df, x='price', color='condition', title='Histogram of Price by Condition', range_x=[0,80000])\n",
    "fig.show()"
   ]
  },
  {
   "cell_type": "code",
   "execution_count": null,
   "metadata": {},
   "outputs": [],
   "source": [
    "median_days_listed = df.groupby('condition')['days_listed'].median().sort_values().index\n",
    "\n",
    "# Convert to categorical with sorted order\n",
    "df['condition'] = pd.Categorical(df['condition'], categories=median_days_listed, ordered=True)\n",
    "\n",
    "# Plot histogram with sorted condition order\n",
    "fig = px.histogram(df, x='days_listed', color='transmission', facet_col='condition',\n",
    "                   title='Histogram of Days Listed by Transmission and Condition',\n",
    "                   category_orders={'condition': median_days_listed})\n",
    "fig.show()"
   ]
  },
  {
   "cell_type": "code",
   "execution_count": null,
   "metadata": {},
   "outputs": [],
   "source": [
    "top_models = df['model'].value_counts().nlargest(25)\n",
    "\n",
    "# Create a bar chart using Plotly Express\n",
    "fig = px.bar(top_models, x=top_models.index, y=top_models.values,\n",
    "             labels={'x': 'Car Model', 'y': 'Number of Listings'},\n",
    "             title='Top 25 Car Models by Number of Listings')\n",
    "fig.show()"
   ]
  },
  {
   "cell_type": "code",
   "execution_count": null,
   "metadata": {},
   "outputs": [],
   "source": [
    "manufacturer_counts = df['manufacturer'].value_counts().reset_index()\n",
    "manufacturer_counts.columns = ['manufacturer', 'count']\n",
    "\n",
    "fig1 = px.bar(manufacturer_counts, x='manufacturer', y='count', \n",
    "              title='Number of Listings by Manufacturer')\n",
    "fig1.update_xaxes(title='Manufacturer')\n",
    "fig1.update_yaxes(title='Number of Listings')\n",
    "fig1.show()"
   ]
  }
 ],
 "metadata": {
  "kernelspec": {
   "display_name": "myenv",
   "language": "python",
   "name": "python3"
  },
  "language_info": {
   "codemirror_mode": {
    "name": "ipython",
    "version": 3
   },
   "file_extension": ".py",
   "mimetype": "text/x-python",
   "name": "python",
   "nbconvert_exporter": "python",
   "pygments_lexer": "ipython3",
   "version": "3.12.4"
  }
 },
 "nbformat": 4,
 "nbformat_minor": 2
}
